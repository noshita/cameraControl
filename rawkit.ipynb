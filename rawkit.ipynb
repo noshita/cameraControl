{
 "cells": [
  {
   "cell_type": "code",
   "execution_count": 20,
   "metadata": {},
   "outputs": [],
   "source": [
    "from rawkit.raw import Raw\n",
    "from rawkit.options import WhiteBalance, colorspaces, gamma_curves, interpolation"
   ]
  },
  {
   "cell_type": "code",
   "execution_count": 22,
   "metadata": {
    "collapsed": true
   },
   "outputs": [],
   "source": [
    "path = \"./m30/0336.CR2\"\n",
    "outputpath = \"./m30/0336_r.tiff\""
   ]
  },
  {
   "cell_type": "code",
   "execution_count": 25,
   "metadata": {},
   "outputs": [
    {
     "name": "stdout",
     "output_type": "stream",
     "text": [
      "0\n",
      "0\n",
      "0\n",
      "0\n"
     ]
    }
   ],
   "source": [
    "with Raw(filename=path) as raw:\n",
    "    raw.options.interpolation = interpolation.ahd\n",
    "    raw.options.white_balance = WhiteBalance(camera=True, auto=False)\n",
    "    raw.options.colorspace = colorspaces.adobe_rgb\n",
    "    raw.options.gamma = gamma_curves.adobe_rgb\n",
    "    raw.options.cropbox = (12, 12, 5184, 3456)\n",
    "    raw.save(filename=outputpath)"
   ]
  },
  {
   "cell_type": "code",
   "execution_count": 26,
   "metadata": {},
   "outputs": [
    {
     "name": "stdout",
     "output_type": "stream",
     "text": [
      "648.0\n",
      "432.0\n"
     ]
    }
   ],
   "source": [
    "div = 8\n",
    "print(5184/div)\n",
    "print(3456/div)"
   ]
  },
  {
   "cell_type": "code",
   "execution_count": null,
   "metadata": {
    "collapsed": true
   },
   "outputs": [],
   "source": []
  }
 ],
 "metadata": {
  "kernelspec": {
   "display_name": "Python 3",
   "language": "python",
   "name": "python3"
  },
  "language_info": {
   "codemirror_mode": {
    "name": "ipython",
    "version": 3
   },
   "file_extension": ".py",
   "mimetype": "text/x-python",
   "name": "python",
   "nbconvert_exporter": "python",
   "pygments_lexer": "ipython3",
   "version": "3.6.0"
  }
 },
 "nbformat": 4,
 "nbformat_minor": 2
}
