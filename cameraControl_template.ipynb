{
 "cells": [
  {
   "cell_type": "markdown",
   "metadata": {},
   "source": [
    "## 準備"
   ]
  },
  {
   "cell_type": "code",
   "execution_count": 12,
   "metadata": {
    "collapsed": true
   },
   "outputs": [],
   "source": [
    " %load_ext autoreload\n",
    "\n",
    "%autoreload 2"
   ]
  },
  {
   "cell_type": "code",
   "execution_count": 13,
   "metadata": {
    "collapsed": true
   },
   "outputs": [],
   "source": [
    "import csv\n",
    "\n",
    "import cameraControl as cc"
   ]
  },
  {
   "cell_type": "code",
   "execution_count": 23,
   "metadata": {},
   "outputs": [
    {
     "name": "stdout",
     "output_type": "stream",
     "text": [
      "<_sre.SRE_Match object; span=(34, 55), match='Current: 071074004871'>\n",
      "<_sre.SRE_Match object; span=(34, 55), match='Current: 071074004870'>\n",
      "<_sre.SRE_Match object; span=(34, 55), match='Current: 071074004873'>\n",
      "<_sre.SRE_Match object; span=(34, 55), match='Current: 071074004864'>\n",
      "<_sre.SRE_Match object; span=(34, 55), match='Current: 071074003448'>\n",
      "<_sre.SRE_Match object; span=(34, 55), match='Current: 071074003434'>\n",
      "<_sre.SRE_Match object; span=(34, 55), match='Current: 071074003380'>\n",
      "<_sre.SRE_Match object; span=(34, 55), match='Current: 071074003443'>\n",
      "<_sre.SRE_Match object; span=(34, 55), match='Current: 071074003382'>\n",
      "<_sre.SRE_Match object; span=(34, 55), match='Current: 071074003449'>\n",
      "<_sre.SRE_Match object; span=(34, 55), match='Current: 071074003365'>\n"
     ]
    }
   ],
   "source": [
    "# ポートリストの取得\n",
    "list_ports = cc.get_list_ports()\n",
    "# シリアルナンバーの取得\n",
    "list_serialnum = cc.get_list_serialnumber(list_ports)"
   ]
  },
  {
   "cell_type": "code",
   "execution_count": 24,
   "metadata": {},
   "outputs": [
    {
     "name": "stdout",
     "output_type": "stream",
     "text": [
      "['usb:020,026', 'usb:020,025', 'usb:020,024', 'usb:020,022', 'usb:020,020', 'usb:020,019', 'usb:020,017', 'usb:020,015', 'usb:020,013', 'usb:020,011', 'usb:020,010']\n",
      "['071074004871', '071074004870', '071074004873', '071074004864', '071074003448', '071074003434', '071074003380', '071074003443', '071074003382', '071074003449', '071074003365']\n",
      "11\n"
     ]
    }
   ],
   "source": [
    "print(list_ports)\n",
    "print(list_serialnum)\n",
    "print(len(list_ports))"
   ]
  },
  {
   "cell_type": "code",
   "execution_count": 25,
   "metadata": {},
   "outputs": [
    {
     "name": "stdout",
     "output_type": "stream",
     "text": [
      "<_sre.SRE_Match object; span=(34, 55), match='Current: 071074004871'>\n",
      "<_sre.SRE_Match object; span=(34, 55), match='Current: 071074004870'>\n",
      "<_sre.SRE_Match object; span=(34, 55), match='Current: 071074004873'>\n",
      "<_sre.SRE_Match object; span=(34, 55), match='Current: 071074004864'>\n",
      "<_sre.SRE_Match object; span=(34, 55), match='Current: 071074003448'>\n",
      "<_sre.SRE_Match object; span=(34, 55), match='Current: 071074003434'>\n",
      "<_sre.SRE_Match object; span=(34, 55), match='Current: 071074003380'>\n",
      "<_sre.SRE_Match object; span=(34, 55), match='Current: 071074003443'>\n",
      "<_sre.SRE_Match object; span=(34, 55), match='Current: 071074003382'>\n",
      "<_sre.SRE_Match object; span=(34, 55), match='Current: 071074003449'>\n",
      "<_sre.SRE_Match object; span=(34, 55), match='Current: 071074003365'>\n"
     ]
    }
   ],
   "source": [
    "# カメラのリスト作成\n",
    "list_camera_numbers = []\n",
    "with open(\"./serialnum_mobile.csv\", \"r\") as f:\n",
    "    reader = csv.reader(f, delimiter=',' ,skipinitialspace=True)\n",
    "    for row in reader:\n",
    "        list_camera_numbers.append(row)\n",
    "list_cameras = cc.genListCameras(list_camera_numbers, list_ports)"
   ]
  },
  {
   "cell_type": "code",
   "execution_count": 26,
   "metadata": {},
   "outputs": [
    {
     "name": "stdout",
     "output_type": "stream",
     "text": [
      "[['m13', '071074004870', 'usb:020,025'], ['m14', '071074004871', 'usb:020,026'], ['m17', '071074003434', 'usb:020,019'], ['m18', '071074003448', 'usb:020,020'], ['m19', '071074003443', 'usb:020,015'], ['m21', '071074003449', 'usb:020,011'], ['m22', '071074003365', 'usb:020,010'], ['m26', '071074003380', 'usb:020,017'], ['m27', '071074004864', 'usb:020,022'], ['m28', '071074004873', 'usb:020,024'], ['m31', '071074003382', 'usb:020,013']]\n",
      "11\n"
     ]
    }
   ],
   "source": [
    "print(list_cameras)\n",
    "print(len(list_cameras))"
   ]
  },
  {
   "cell_type": "markdown",
   "metadata": {},
   "source": [
    "## 作業開始前"
   ]
  },
  {
   "cell_type": "code",
   "execution_count": null,
   "metadata": {},
   "outputs": [],
   "source": [
    "# 画像フォーマットの設定\n",
    "# 9: RAW\n",
    "cc.set_allCameras_imageformat(list_ports, 9)\n",
    "#  SDカードのデータ削除\n",
    "cc.delete_all_files_inAllCameras(list_ports)\n",
    "# 時刻の同期\n",
    "cc.set_clocks_now(list_ports)"
   ]
  },
  {
   "cell_type": "markdown",
   "metadata": {},
   "source": [
    "## 作業終了時"
   ]
  },
  {
   "cell_type": "code",
   "execution_count": 8,
   "metadata": {},
   "outputs": [
    {
     "name": "stdout",
     "output_type": "stream",
     "text": [
      "['m13', '071074004870', 'usb:020,025']\n",
      "['m14', '071074004871', 'usb:020,026']\n",
      "['m17', '071074003434', 'usb:020,019']\n",
      "['m18', '071074003448', 'usb:020,020']\n",
      "['m19', '071074003443', 'usb:020,015']\n",
      "['m21', '071074003449', 'usb:020,011']\n",
      "['m22', '071074003365', 'usb:020,010']\n",
      "['m26', '071074003380', 'usb:020,017']\n",
      "['m27', '071074004864', 'usb:020,022']\n",
      "['m28', '071074004873', 'usb:020,024']\n",
      "['m31', '071074003382', 'usb:020,013']\n"
     ]
    }
   ],
   "source": [
    "# 画像の回収\n",
    "# cc.get_all_images(list_cameras, \"./mobile\")\n",
    "# cc.get_all_images(list_cameras, \"./stadio\")\n",
    "cc.get_all_images(list_cameras, \"/Volumes/ex02/0725\")"
   ]
  },
  {
   "cell_type": "code",
   "execution_count": 11,
   "metadata": {},
   "outputs": [
    {
     "name": "stdout",
     "output_type": "stream",
     "text": [
      "['m30', '411073015550', 'usb:020,012']\n"
     ]
    }
   ],
   "source": [
    "cc.get_all_images_fromACamera(list_cameras[1],\"/Volumes/ex02/07\")"
   ]
  },
  {
   "cell_type": "code",
   "execution_count": 14,
   "metadata": {},
   "outputs": [
    {
     "data": {
      "text/plain": [
       "0"
      ]
     },
     "execution_count": 14,
     "metadata": {},
     "output_type": "execute_result"
    }
   ],
   "source": [
    "#  SDカードのデータ削除（データが問題なく回収されたら実行）\n",
    "cc.delete_all_files_inAllCameras(list_ports)"
   ]
  },
  {
   "cell_type": "code",
   "execution_count": 2,
   "metadata": {
    "collapsed": true
   },
   "outputs": [],
   "source": [
    "import os"
   ]
  },
  {
   "cell_type": "code",
   "execution_count": 4,
   "metadata": {},
   "outputs": [
    {
     "data": {
      "text/plain": [
       "'/Users/noshita/working_dir/cameraControl'"
      ]
     },
     "execution_count": 4,
     "metadata": {},
     "output_type": "execute_result"
    }
   ],
   "source": [
    "os.path.abspath(\"./\")"
   ]
  },
  {
   "cell_type": "code",
   "execution_count": 10,
   "metadata": {},
   "outputs": [
    {
     "data": {
      "text/plain": [
       "['m30', '411073015550', 'usb:020,012']"
      ]
     },
     "execution_count": 10,
     "metadata": {},
     "output_type": "execute_result"
    }
   ],
   "source": [
    "list_cameras[1]"
   ]
  },
  {
   "cell_type": "code",
   "execution_count": null,
   "metadata": {
    "collapsed": true
   },
   "outputs": [],
   "source": []
  }
 ],
 "metadata": {
  "kernelspec": {
   "display_name": "Python 3",
   "language": "python",
   "name": "python3"
  },
  "language_info": {
   "codemirror_mode": {
    "name": "ipython",
    "version": 3
   },
   "file_extension": ".py",
   "mimetype": "text/x-python",
   "name": "python",
   "nbconvert_exporter": "python",
   "pygments_lexer": "ipython3",
   "version": "3.6.0"
  }
 },
 "nbformat": 4,
 "nbformat_minor": 2
}
