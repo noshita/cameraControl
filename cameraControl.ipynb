{
 "cells": [
  {
   "cell_type": "markdown",
   "metadata": {},
   "source": [
    "## 準備"
   ]
  },
  {
   "cell_type": "code",
   "execution_count": 11,
   "metadata": {
    "collapsed": true
   },
   "outputs": [],
   "source": [
    "import csv\n",
    "\n",
    "import cameraControl as cc"
   ]
  },
  {
   "cell_type": "code",
   "execution_count": 12,
   "metadata": {
    "collapsed": false
   },
   "outputs": [],
   "source": [
    "# ポートリストの取得\n",
    "list_ports = cc.get_list_ports()\n",
    "# シリアルナンバーの取得\n",
    "list_serialnum = cc.get_list_serialnumber(list_ports)\n",
    "# カメラのリスト作成\n",
    "list_camera_numbers = []\n",
    "with open(\"./serialnum.csv\", \"r\") as f:\n",
    "    reader = csv.reader(f, delimiter=',' ,skipinitialspace=True)\n",
    "    for row in reader:\n",
    "        list_camera_numbers.append(row)\n",
    "list_cameras = cc.genListCameras(list_camera_numbers, list_ports)"
   ]
  },
  {
   "cell_type": "code",
   "execution_count": 13,
   "metadata": {
    "collapsed": false
   },
   "outputs": [
    {
     "name": "stdout",
     "output_type": "stream",
     "text": [
      "['usb:020,021', 'usb:020,008']\n",
      "['011074017969', '011074017959']\n",
      "[['t03', '011074017969', 'usb:020,021'], ['t04', '011074017959', 'usb:020,008']]\n"
     ]
    }
   ],
   "source": [
    "print(list_ports)\n",
    "print(list_serialnum)\n",
    "print(list_cameras)"
   ]
  },
  {
   "cell_type": "markdown",
   "metadata": {},
   "source": [
    "## 作業開始前"
   ]
  },
  {
   "cell_type": "code",
   "execution_count": 14,
   "metadata": {
    "collapsed": true
   },
   "outputs": [],
   "source": [
    "# 画像フォーマットの設定\n",
    "# 9: RAW\n",
    "cc.set_allCameras_imageformat(list_ports, 9)\n",
    "#  SDカードのデータ削除\n",
    "cc.delete_all_files_inAllCameras(list_ports)\n",
    "# 時刻の同期\n",
    "cc.set_clocks_now(list_ports)"
   ]
  },
  {
   "cell_type": "markdown",
   "metadata": {},
   "source": [
    "## 作業終了時"
   ]
  },
  {
   "cell_type": "code",
   "execution_count": 16,
   "metadata": {
    "collapsed": false
   },
   "outputs": [
    {
     "name": "stdout",
     "output_type": "stream",
     "text": [
      "['t03', '011074017969', 'usb:020,021']\n",
      "['t04', '011074017959', 'usb:020,008']\n"
     ]
    }
   ],
   "source": [
    "# 画像の回収\n",
    "cc.get_all_images(list_cameras, \"./test\")"
   ]
  },
  {
   "cell_type": "code",
   "execution_count": null,
   "metadata": {
    "collapsed": true
   },
   "outputs": [],
   "source": [
    "#  SDカードのデータ削除（データが問題なく回収されたら実行）\n",
    "cc.delete_all_files_inAllCameras(list_ports)"
   ]
  }
 ],
 "metadata": {
  "kernelspec": {
   "display_name": "Python 3",
   "language": "python",
   "name": "python3"
  },
  "language_info": {
   "codemirror_mode": {
    "name": "ipython",
    "version": 3
   },
   "file_extension": ".py",
   "mimetype": "text/x-python",
   "name": "python",
   "nbconvert_exporter": "python",
   "pygments_lexer": "ipython3",
   "version": "3.6.0"
  }
 },
 "nbformat": 4,
 "nbformat_minor": 2
}
