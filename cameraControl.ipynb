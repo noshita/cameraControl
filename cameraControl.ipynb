{
 "cells": [
  {
   "cell_type": "markdown",
   "metadata": {
    "deletable": true,
    "editable": true
   },
   "source": [
    "## 準備"
   ]
  },
  {
   "cell_type": "code",
   "execution_count": 1,
   "metadata": {
    "collapsed": true,
    "deletable": true,
    "editable": true
   },
   "outputs": [],
   "source": [
    "import csv\n",
    "\n",
    "import cameraControl as cc"
   ]
  },
  {
   "cell_type": "code",
   "execution_count": 2,
   "metadata": {
    "collapsed": false,
    "deletable": true,
    "editable": true
   },
   "outputs": [
    {
     "name": "stdout",
     "output_type": "stream",
     "text": [
      "<_sre.SRE_Match object; span=(0, 21), match='Current: 071074004871'>\n",
      "<_sre.SRE_Match object; span=(0, 21), match='Current: 071074003361'>\n",
      "<_sre.SRE_Match object; span=(0, 21), match='Current: 061074013249'>\n",
      "<_sre.SRE_Match object; span=(0, 21), match='Current: 071074004870'>\n",
      "<_sre.SRE_Match object; span=(0, 21), match='Current: 071074003434'>\n",
      "<_sre.SRE_Match object; span=(0, 21), match='Current: 071074003448'>\n",
      "<_sre.SRE_Match object; span=(0, 21), match='Current: 071074003443'>\n",
      "None\n",
      "<_sre.SRE_Match object; span=(0, 21), match='Current: 071074003365'>\n",
      "<_sre.SRE_Match object; span=(0, 21), match='Current: 071074003449'>\n"
     ]
    }
   ],
   "source": [
    "# ポートリストの取得\n",
    "list_ports = cc.get_list_ports()\n",
    "# シリアルナンバーの取得\n",
    "list_serialnum = cc.get_list_serialnumber(list_ports)"
   ]
  },
  {
   "cell_type": "code",
   "execution_count": 3,
   "metadata": {
    "collapsed": false,
    "deletable": true,
    "editable": true
   },
   "outputs": [
    {
     "name": "stdout",
     "output_type": "stream",
     "text": [
      "['usb:020,003', 'usb:020,016', 'usb:020,007', 'usb:020,012', 'usb:020,018', 'usb:020,031', 'usb:020,030', 'usb:020,027', 'usb:020,023', 'usb:020,022']\n",
      "['071074004871', '071074003361', '061074013249', '071074004870', '071074003434', '071074003448', '071074003443', '071074003365', '071074003449']\n",
      "10\n"
     ]
    }
   ],
   "source": [
    "print(list_ports)\n",
    "print(list_serialnum)\n",
    "print(len(list_ports))"
   ]
  },
  {
   "cell_type": "code",
   "execution_count": 4,
   "metadata": {
    "collapsed": false,
    "deletable": true,
    "editable": true
   },
   "outputs": [
    {
     "name": "stdout",
     "output_type": "stream",
     "text": [
      "<_sre.SRE_Match object; span=(0, 21), match='Current: 071074004871'>\n",
      "<_sre.SRE_Match object; span=(0, 21), match='Current: 071074003361'>\n",
      "<_sre.SRE_Match object; span=(0, 21), match='Current: 061074013249'>\n",
      "<_sre.SRE_Match object; span=(0, 21), match='Current: 071074004870'>\n",
      "<_sre.SRE_Match object; span=(0, 21), match='Current: 071074003434'>\n",
      "<_sre.SRE_Match object; span=(0, 21), match='Current: 071074003448'>\n",
      "<_sre.SRE_Match object; span=(0, 21), match='Current: 071074003443'>\n",
      "None\n",
      "<_sre.SRE_Match object; span=(0, 21), match='Current: 071074003365'>\n",
      "<_sre.SRE_Match object; span=(0, 21), match='Current: 071074003449'>\n"
     ]
    }
   ],
   "source": [
    "# カメラのリスト作成\n",
    "list_camera_numbers = []\n",
    "with open(\"./serialnum_mobile.csv\", \"r\") as f:\n",
    "    reader = csv.reader(f, delimiter=',' ,skipinitialspace=True)\n",
    "    for row in reader:\n",
    "        list_camera_numbers.append(row)\n",
    "list_cameras = cc.genListCameras(list_camera_numbers, list_ports)"
   ]
  },
  {
   "cell_type": "code",
   "execution_count": null,
   "metadata": {
    "collapsed": false,
    "deletable": true,
    "editable": true
   },
   "outputs": [],
   "source": [
    "print(list_cameras)"
   ]
  },
  {
   "cell_type": "markdown",
   "metadata": {
    "deletable": true,
    "editable": true
   },
   "source": [
    "## 作業開始前"
   ]
  },
  {
   "cell_type": "code",
   "execution_count": 5,
   "metadata": {
    "collapsed": true,
    "deletable": true,
    "editable": true
   },
   "outputs": [],
   "source": [
    "# 画像フォーマットの設定\n",
    "# 9: RAW\n",
    "cc.set_allCameras_imageformat(list_ports, 9)\n",
    "#  SDカードのデータ削除\n",
    "cc.delete_all_files_inAllCameras(list_ports)\n",
    "# 時刻の同期\n",
    "cc.set_clocks_now(list_ports)"
   ]
  },
  {
   "cell_type": "markdown",
   "metadata": {
    "deletable": true,
    "editable": true
   },
   "source": [
    "## 作業終了時"
   ]
  },
  {
   "cell_type": "code",
   "execution_count": 12,
   "metadata": {
    "collapsed": false,
    "deletable": true,
    "editable": true
   },
   "outputs": [
    {
     "name": "stdout",
     "output_type": "stream",
     "text": [
      "['s1', '071074004863', 'usb:020,027']\n",
      "['s2', '061074013237', 'usb:020,026']\n",
      "['s3', '071074003452', 'usb:020,028']\n",
      "['s4', '071074003450', 'usb:020,022']\n",
      "['s5', '071074003384', 'usb:020,023']\n",
      "['s6', '071074004869', 'usb:020,025']\n"
     ]
    }
   ],
   "source": [
    "# 画像の回収\n",
    "cc.get_all_images(list_cameras, \"./stadio\")"
   ]
  },
  {
   "cell_type": "code",
   "execution_count": 19,
   "metadata": {
    "collapsed": false,
    "deletable": true,
    "editable": true
   },
   "outputs": [
    {
     "data": {
      "text/plain": [
       "0"
      ]
     },
     "execution_count": 19,
     "metadata": {},
     "output_type": "execute_result"
    }
   ],
   "source": [
    "#  SDカードのデータ削除（データが問題なく回収されたら実行）\n",
    "cc.delete_all_files_inAllCameras(list_ports)"
   ]
  },
  {
   "cell_type": "code",
   "execution_count": null,
   "metadata": {
    "collapsed": true,
    "deletable": true,
    "editable": true
   },
   "outputs": [],
   "source": []
  }
 ],
 "metadata": {
  "kernelspec": {
   "display_name": "Python 3",
   "language": "python",
   "name": "python3"
  },
  "language_info": {
   "codemirror_mode": {
    "name": "ipython",
    "version": 3
   },
   "file_extension": ".py",
   "mimetype": "text/x-python",
   "name": "python",
   "nbconvert_exporter": "python",
   "pygments_lexer": "ipython3",
   "version": "3.6.0"
  }
 },
 "nbformat": 4,
 "nbformat_minor": 2
}
