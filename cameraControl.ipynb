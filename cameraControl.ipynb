{
 "cells": [
  {
   "cell_type": "markdown",
   "metadata": {},
   "source": [
    "## 準備"
   ]
  },
  {
   "cell_type": "code",
   "execution_count": 12,
   "metadata": {
    "collapsed": true
   },
   "outputs": [],
   "source": [
    " %load_ext autoreload\n",
    "\n",
    "%autoreload 2"
   ]
  },
  {
   "cell_type": "code",
   "execution_count": 1,
   "metadata": {
    "collapsed": true
   },
   "outputs": [],
   "source": [
    "import csv\n",
    "\n",
    "import cameraControl as cc"
   ]
  },
  {
   "cell_type": "code",
   "execution_count": 2,
   "metadata": {},
   "outputs": [
    {
     "name": "stdout",
     "output_type": "stream",
     "text": [
      "<_sre.SRE_Match object; span=(34, 55), match='Current: 071074003361'>\n",
      "<_sre.SRE_Match object; span=(34, 55), match='Current: 071074003364'>\n",
      "<_sre.SRE_Match object; span=(34, 55), match='Current: 031074009484'>\n",
      "<_sre.SRE_Match object; span=(34, 55), match='Current: 071074004862'>\n",
      "<_sre.SRE_Match object; span=(34, 55), match='Current: 071074003379'>\n",
      "<_sre.SRE_Match object; span=(34, 55), match='Current: 411073015550'>\n",
      "<_sre.SRE_Match object; span=(34, 55), match='Current: 061074013248'>\n",
      "<_sre.SRE_Match object; span=(34, 55), match='Current: 071074003362'>\n",
      "<_sre.SRE_Match object; span=(34, 55), match='Current: 031074011620'>\n",
      "<_sre.SRE_Match object; span=(34, 55), match='Current: 071074004867'>\n"
     ]
    }
   ],
   "source": [
    "# ポートリストの取得\n",
    "list_ports = cc.get_list_ports()\n",
    "# シリアルナンバーの取得\n",
    "list_serialnum = cc.get_list_serialnumber(list_ports)"
   ]
  },
  {
   "cell_type": "code",
   "execution_count": 3,
   "metadata": {},
   "outputs": [
    {
     "name": "stdout",
     "output_type": "stream",
     "text": [
      "['usb:020,021', 'usb:020,020', 'usb:020,018', 'usb:020,017', 'usb:020,015', 'usb:020,012', 'usb:020,011', 'usb:020,010', 'usb:020,008', 'usb:020,007']\n",
      "['071074003361', '071074003364', '031074009484', '071074004862', '071074003379', '411073015550', '061074013248', '071074003362', '031074011620', '071074004867']\n",
      "10\n"
     ]
    }
   ],
   "source": [
    "print(list_ports)\n",
    "print(list_serialnum)\n",
    "print(len(list_ports))"
   ]
  },
  {
   "cell_type": "code",
   "execution_count": 4,
   "metadata": {},
   "outputs": [
    {
     "name": "stdout",
     "output_type": "stream",
     "text": [
      "<_sre.SRE_Match object; span=(34, 55), match='Current: 071074003361'>\n",
      "<_sre.SRE_Match object; span=(34, 55), match='Current: 071074003364'>\n",
      "<_sre.SRE_Match object; span=(34, 55), match='Current: 031074009484'>\n",
      "<_sre.SRE_Match object; span=(34, 55), match='Current: 071074004862'>\n",
      "<_sre.SRE_Match object; span=(34, 55), match='Current: 071074003379'>\n",
      "<_sre.SRE_Match object; span=(34, 55), match='Current: 411073015550'>\n",
      "<_sre.SRE_Match object; span=(34, 55), match='Current: 061074013248'>\n",
      "<_sre.SRE_Match object; span=(34, 55), match='Current: 071074003362'>\n",
      "<_sre.SRE_Match object; span=(34, 55), match='Current: 031074011620'>\n",
      "<_sre.SRE_Match object; span=(34, 55), match='Current: 071074004867'>\n"
     ]
    }
   ],
   "source": [
    "# カメラのリスト作成\n",
    "list_camera_numbers = []\n",
    "with open(\"./serialnum_mobile.csv\", \"r\") as f:\n",
    "    reader = csv.reader(f, delimiter=',' ,skipinitialspace=True)\n",
    "    for row in reader:\n",
    "        list_camera_numbers.append(row)\n",
    "list_cameras = cc.genListCameras(list_camera_numbers, list_ports)"
   ]
  },
  {
   "cell_type": "code",
   "execution_count": 5,
   "metadata": {},
   "outputs": [
    {
     "name": "stdout",
     "output_type": "stream",
     "text": [
      "[['m02', '031074011620', 'usb:020,008'], ['m15', '071074003361', 'usb:020,021'], ['m16', '071074004867', 'usb:020,007'], ['m20', '071074003379', 'usb:020,015'], ['m23', '031074009484', 'usb:020,018'], ['m24', '071074003364', 'usb:020,020'], ['m25', '071074004862', 'usb:020,017'], ['m29', '061074013248', 'usb:020,011'], ['m30', '411073015550', 'usb:020,012'], ['m32', '071074003362', 'usb:020,010']]\n",
      "10\n"
     ]
    }
   ],
   "source": [
    "print(list_cameras)\n",
    "print(len(list_cameras))"
   ]
  },
  {
   "cell_type": "markdown",
   "metadata": {},
   "source": [
    "## 作業開始前"
   ]
  },
  {
   "cell_type": "code",
   "execution_count": 7,
   "metadata": {
    "collapsed": true
   },
   "outputs": [],
   "source": [
    "# 画像フォーマットの設定\n",
    "# 9: RAW\n",
    "cc.set_allCameras_imageformat(list_ports, 9)\n",
    "#  SDカードのデータ削除\n",
    "cc.delete_all_files_inAllCameras(list_ports)\n",
    "# 時刻の同期\n",
    "cc.set_clocks_now(list_ports)"
   ]
  },
  {
   "cell_type": "markdown",
   "metadata": {},
   "source": [
    "## 作業終了時"
   ]
  },
  {
   "cell_type": "code",
   "execution_count": 6,
   "metadata": {},
   "outputs": [
    {
     "name": "stdout",
     "output_type": "stream",
     "text": [
      "['m02', '031074011620', 'usb:020,008']\n",
      "['m15', '071074003361', 'usb:020,021']\n",
      "['m16', '071074004867', 'usb:020,007']\n",
      "['m20', '071074003379', 'usb:020,015']\n",
      "['m23', '031074009484', 'usb:020,018']\n",
      "['m24', '071074003364', 'usb:020,020']\n",
      "['m25', '071074004862', 'usb:020,017']\n",
      "['m29', '061074013248', 'usb:020,011']\n",
      "['m30', '411073015550', 'usb:020,012']\n",
      "['m32', '071074003362', 'usb:020,010']\n"
     ]
    }
   ],
   "source": [
    "# 画像の回収\n",
    "# cc.get_all_images(list_cameras, \"./mobile\")\n",
    "# cc.get_all_images(list_cameras, \"./stadio\")\n",
    "cc.get_all_images(list_cameras, \"/Volumes/ex02/0728\")"
   ]
  },
  {
   "cell_type": "code",
   "execution_count": 11,
   "metadata": {},
   "outputs": [
    {
     "name": "stdout",
     "output_type": "stream",
     "text": [
      "['m30', '411073015550', 'usb:020,012']\n"
     ]
    }
   ],
   "source": [
    "cc.get_all_images_fromACamera(list_cameras[1],\"/Volumes/ex02/07\")"
   ]
  },
  {
   "cell_type": "code",
   "execution_count": 14,
   "metadata": {},
   "outputs": [
    {
     "data": {
      "text/plain": [
       "0"
      ]
     },
     "execution_count": 14,
     "metadata": {},
     "output_type": "execute_result"
    }
   ],
   "source": [
    "#  SDカードのデータ削除（データが問題なく回収されたら実行）\n",
    "cc.delete_all_files_inAllCameras(list_ports)"
   ]
  },
  {
   "cell_type": "code",
   "execution_count": 2,
   "metadata": {
    "collapsed": true
   },
   "outputs": [],
   "source": [
    "import os"
   ]
  },
  {
   "cell_type": "code",
   "execution_count": 4,
   "metadata": {},
   "outputs": [
    {
     "data": {
      "text/plain": [
       "'/Users/noshita/working_dir/cameraControl'"
      ]
     },
     "execution_count": 4,
     "metadata": {},
     "output_type": "execute_result"
    }
   ],
   "source": [
    "os.path.abspath(\"./\")"
   ]
  },
  {
   "cell_type": "code",
   "execution_count": 10,
   "metadata": {},
   "outputs": [
    {
     "data": {
      "text/plain": [
       "['m30', '411073015550', 'usb:020,012']"
      ]
     },
     "execution_count": 10,
     "metadata": {},
     "output_type": "execute_result"
    }
   ],
   "source": [
    "list_cameras[1]"
   ]
  },
  {
   "cell_type": "code",
   "execution_count": null,
   "metadata": {
    "collapsed": true
   },
   "outputs": [],
   "source": []
  }
 ],
 "metadata": {
  "kernelspec": {
   "display_name": "Python 3",
   "language": "python",
   "name": "python3"
  },
  "language_info": {
   "codemirror_mode": {
    "name": "ipython",
    "version": 3
   },
   "file_extension": ".py",
   "mimetype": "text/x-python",
   "name": "python",
   "nbconvert_exporter": "python",
   "pygments_lexer": "ipython3",
   "version": "3.6.0"
  }
 },
 "nbformat": 4,
 "nbformat_minor": 2
}
