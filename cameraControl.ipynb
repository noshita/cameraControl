{
 "cells": [
  {
   "cell_type": "markdown",
   "metadata": {
    "deletable": true,
    "editable": true
   },
   "source": [
    "## 準備"
   ]
  },
  {
   "cell_type": "code",
   "execution_count": 1,
   "metadata": {
    "collapsed": true,
    "deletable": true,
    "editable": true
   },
   "outputs": [],
   "source": [
    "import csv\n",
    "\n",
    "import cameraControl as cc"
   ]
  },
  {
   "cell_type": "code",
   "execution_count": 4,
   "metadata": {
    "collapsed": false,
    "deletable": true,
    "editable": true
   },
   "outputs": [
    {
     "name": "stdout",
     "output_type": "stream",
     "text": [
      "<_sre.SRE_Match object; span=(0, 21), match='Current: 061074013250'>\n",
      "<_sre.SRE_Match object; span=(0, 21), match='Current: 031074011541'>\n",
      "<_sre.SRE_Match object; span=(0, 21), match='Current: 031074011632'>\n",
      "<_sre.SRE_Match object; span=(0, 21), match='Current: 031074011622'>\n",
      "<_sre.SRE_Match object; span=(0, 21), match='Current: 031074011631'>\n",
      "<_sre.SRE_Match object; span=(0, 21), match='Current: 031074011650'>\n",
      "<_sre.SRE_Match object; span=(0, 21), match='Current: 031074011638'>\n",
      "<_sre.SRE_Match object; span=(0, 21), match='Current: 031074011633'>\n",
      "<_sre.SRE_Match object; span=(0, 21), match='Current: 031074011640'>\n",
      "<_sre.SRE_Match object; span=(0, 21), match='Current: 031074011634'>\n",
      "<_sre.SRE_Match object; span=(0, 21), match='Current: 031074011629'>\n"
     ]
    }
   ],
   "source": [
    "# ポートリストの取得\n",
    "list_ports = cc.get_list_ports()\n",
    "# シリアルナンバーの取得\n",
    "list_serialnum = cc.get_list_serialnumber(list_ports)"
   ]
  },
  {
   "cell_type": "code",
   "execution_count": 5,
   "metadata": {
    "collapsed": false,
    "deletable": true,
    "editable": true
   },
   "outputs": [
    {
     "name": "stdout",
     "output_type": "stream",
     "text": [
      "['usb:020,001', 'usb:020,032', 'usb:020,006', 'usb:020,023', 'usb:020,017', 'usb:020,019', 'usb:020,010', 'usb:020,005', 'usb:020,018', 'usb:020,012', 'usb:020,028']\n",
      "['061074013250', '031074011541', '031074011632', '031074011622', '031074011631', '031074011650', '031074011638', '031074011633', '031074011640', '031074011634', '031074011629']\n",
      "11\n"
     ]
    }
   ],
   "source": [
    "print(list_ports)\n",
    "print(list_serialnum)\n",
    "print(len(list_ports))"
   ]
  },
  {
   "cell_type": "code",
   "execution_count": 6,
   "metadata": {
    "collapsed": false,
    "deletable": true,
    "editable": true
   },
   "outputs": [
    {
     "name": "stdout",
     "output_type": "stream",
     "text": [
      "<_sre.SRE_Match object; span=(0, 21), match='Current: 061074013250'>\n",
      "<_sre.SRE_Match object; span=(0, 21), match='Current: 031074011541'>\n",
      "<_sre.SRE_Match object; span=(0, 21), match='Current: 031074011632'>\n",
      "<_sre.SRE_Match object; span=(0, 21), match='Current: 031074011622'>\n",
      "<_sre.SRE_Match object; span=(0, 21), match='Current: 031074011631'>\n",
      "<_sre.SRE_Match object; span=(0, 21), match='Current: 031074011650'>\n",
      "<_sre.SRE_Match object; span=(0, 21), match='Current: 031074011638'>\n",
      "<_sre.SRE_Match object; span=(0, 21), match='Current: 031074011633'>\n",
      "<_sre.SRE_Match object; span=(0, 21), match='Current: 031074011640'>\n",
      "<_sre.SRE_Match object; span=(0, 21), match='Current: 031074011634'>\n",
      "<_sre.SRE_Match object; span=(0, 21), match='Current: 031074011629'>\n"
     ]
    }
   ],
   "source": [
    "# カメラのリスト作成\n",
    "list_camera_numbers = []\n",
    "with open(\"./serialnum_mobile.csv\", \"r\") as f:\n",
    "    reader = csv.reader(f, delimiter=',' ,skipinitialspace=True)\n",
    "    for row in reader:\n",
    "        list_camera_numbers.append(row)\n",
    "list_cameras = cc.genListCameras(list_camera_numbers, list_ports)"
   ]
  },
  {
   "cell_type": "code",
   "execution_count": 8,
   "metadata": {
    "collapsed": false,
    "deletable": true,
    "editable": true
   },
   "outputs": [
    {
     "name": "stdout",
     "output_type": "stream",
     "text": [
      "[['m01', '061074013250', 'usb:020,001'], ['m03', '031074011541', 'usb:020,032'], ['m04', '031074011638', 'usb:020,010'], ['m05', '031074011632', 'usb:020,006'], ['m06', '031074011631', 'usb:020,017'], ['m07', '031074011622', 'usb:020,023'], ['m08', '031074011650', 'usb:020,019'], ['m09', '031074011640', 'usb:020,018'], ['m10', '031074011634', 'usb:020,012'], ['m11', '031074011633', 'usb:020,005'], ['m12', '031074011629', 'usb:020,028']]\n",
      "11\n"
     ]
    }
   ],
   "source": [
    "print(list_cameras)\n",
    "print(len(list_cameras))"
   ]
  },
  {
   "cell_type": "markdown",
   "metadata": {
    "deletable": true,
    "editable": true
   },
   "source": [
    "## 作業開始前"
   ]
  },
  {
   "cell_type": "code",
   "execution_count": 17,
   "metadata": {
    "collapsed": true,
    "deletable": true,
    "editable": true
   },
   "outputs": [],
   "source": [
    "# 画像フォーマットの設定\n",
    "# 9: RAW\n",
    "cc.set_allCameras_imageformat(list_ports, 9)\n",
    "#  SDカードのデータ削除\n",
    "cc.delete_all_files_inAllCameras(list_ports)\n",
    "# 時刻の同期\n",
    "cc.set_clocks_now(list_ports)"
   ]
  },
  {
   "cell_type": "markdown",
   "metadata": {
    "deletable": true,
    "editable": true
   },
   "source": [
    "## 作業終了時"
   ]
  },
  {
   "cell_type": "code",
   "execution_count": 9,
   "metadata": {
    "collapsed": false,
    "deletable": true,
    "editable": true
   },
   "outputs": [
    {
     "name": "stdout",
     "output_type": "stream",
     "text": [
      "['m01', '061074013250', 'usb:020,001']\n",
      "['m03', '031074011541', 'usb:020,032']\n",
      "['m04', '031074011638', 'usb:020,010']\n",
      "['m05', '031074011632', 'usb:020,006']\n",
      "['m06', '031074011631', 'usb:020,017']\n",
      "['m07', '031074011622', 'usb:020,023']\n",
      "['m08', '031074011650', 'usb:020,019']\n",
      "['m09', '031074011640', 'usb:020,018']\n",
      "['m10', '031074011634', 'usb:020,012']\n",
      "['m11', '031074011633', 'usb:020,005']\n",
      "['m12', '031074011629', 'usb:020,028']\n"
     ]
    }
   ],
   "source": [
    "# 画像の回収\n",
    "cc.get_all_images(list_cameras, \"./mobile\")\n",
    "# cc.get_all_images(list_cameras, \"./stadio\")"
   ]
  },
  {
   "cell_type": "code",
   "execution_count": 7,
   "metadata": {
    "collapsed": false,
    "deletable": true,
    "editable": true
   },
   "outputs": [
    {
     "name": "stdout",
     "output_type": "stream",
     "text": [
      "['m31', '071074004873', 'usb:020,030']\n"
     ]
    }
   ],
   "source": [
    "cc.get_all_images_fromACamera(list_cameras[8],\"./mobile\")"
   ]
  },
  {
   "cell_type": "code",
   "execution_count": 19,
   "metadata": {
    "collapsed": false,
    "deletable": true,
    "editable": true
   },
   "outputs": [
    {
     "data": {
      "text/plain": [
       "0"
      ]
     },
     "execution_count": 19,
     "metadata": {},
     "output_type": "execute_result"
    }
   ],
   "source": [
    "#  SDカードのデータ削除（データが問題なく回収されたら実行）\n",
    "cc.delete_all_files_inAllCameras(list_ports)"
   ]
  },
  {
   "cell_type": "code",
   "execution_count": 2,
   "metadata": {
    "collapsed": true,
    "deletable": true,
    "editable": true
   },
   "outputs": [],
   "source": [
    "import os"
   ]
  },
  {
   "cell_type": "code",
   "execution_count": 4,
   "metadata": {
    "collapsed": false,
    "deletable": true,
    "editable": true
   },
   "outputs": [
    {
     "data": {
      "text/plain": [
       "'/Users/noshita/working_dir/cameraControl'"
      ]
     },
     "execution_count": 4,
     "metadata": {},
     "output_type": "execute_result"
    }
   ],
   "source": [
    "os.path.abspath(\"./\")"
   ]
  },
  {
   "cell_type": "code",
   "execution_count": null,
   "metadata": {
    "collapsed": true,
    "deletable": true,
    "editable": true
   },
   "outputs": [],
   "source": []
  }
 ],
 "metadata": {
  "kernelspec": {
   "display_name": "Python 3",
   "language": "python",
   "name": "python3"
  },
  "language_info": {
   "codemirror_mode": {
    "name": "ipython",
    "version": 3
   },
   "file_extension": ".py",
   "mimetype": "text/x-python",
   "name": "python",
   "nbconvert_exporter": "python",
   "pygments_lexer": "ipython3",
   "version": "3.6.0"
  }
 },
 "nbformat": 4,
 "nbformat_minor": 2
}
