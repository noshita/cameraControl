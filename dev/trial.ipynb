{
 "cells": [
  {
   "cell_type": "code",
   "execution_count": 1,
   "metadata": {
    "collapsed": true,
    "deletable": true,
    "editable": true
   },
   "outputs": [],
   "source": [
    "import gphoto2 as gp"
   ]
  },
  {
   "cell_type": "code",
   "execution_count": 2,
   "metadata": {
    "collapsed": true,
    "deletable": true,
    "editable": true
   },
   "outputs": [],
   "source": [
    "from datetime import datetime"
   ]
  },
  {
   "cell_type": "code",
   "execution_count": null,
   "metadata": {
    "collapsed": true
   },
   "outputs": [],
   "source": []
  },
  {
   "cell_type": "code",
   "execution_count": 3,
   "metadata": {
    "collapsed": true,
    "deletable": true,
    "editable": true
   },
   "outputs": [],
   "source": [
    "def chooseCamera(idx, cameraList, context):\n",
    "    camera = gp.Camera()\n",
    "    portInfo = gp.PortInfoList()\n",
    "    portInfo.load()\n",
    "    portIdx = portInfo.lookup_path(cameraList[idx][1])\n",
    "    camera.set_port_info(portInfo[portIdx])\n",
    "    camera.init(context)\n",
    "    return camera"
   ]
  },
  {
   "cell_type": "code",
   "execution_count": 2,
   "metadata": {
    "collapsed": true,
    "deletable": true,
    "editable": true
   },
   "outputs": [],
   "source": [
    "import logging\n",
    "import sys\n",
    "import time"
   ]
  },
  {
   "cell_type": "code",
   "execution_count": 3,
   "metadata": {
    "collapsed": false,
    "deletable": true,
    "editable": true
   },
   "outputs": [],
   "source": [
    "def set_datetime(config,delta):\n",
    "    OK, sync_config = gp.gp_widget_get_child_by_name(config, 'syncdatetime')\n",
    "    if OK >= gp.GP_OK:\n",
    "        gp.check_result(gp.gp_widget_set_value(sync_config, 1))\n",
    "        return True\n",
    "    OK, date_config = gp.gp_widget_get_child_by_name(config, 'datetime')\n",
    "    if OK >= gp.GP_OK:\n",
    "        widget_type = gp.check_result(gp.gp_widget_get_type(date_config))\n",
    "        if widget_type == gp.GP_WIDGET_DATE:\n",
    "            now = int(time.time()+delta)\n",
    "            gp.check_result(gp.gp_widget_set_value(date_config, now))\n",
    "        else:\n",
    "            now = time.strftime('%Y-%m-%d %H:%M:%S')\n",
    "            gp.check_result(gp.gp_widget_set_value(date_config, now))\n",
    "        return True\n",
    "    return False"
   ]
  },
  {
   "cell_type": "code",
   "execution_count": 5,
   "metadata": {
    "collapsed": false,
    "deletable": true,
    "editable": true
   },
   "outputs": [
    {
     "name": "stderr",
     "output_type": "stream",
     "text": [
      "WARNING: gphoto2: (ptp_list_folder_eos [library.c:7649]) storage 0xffffffff, but handle 0x00000000?\n",
      "WARNING: gphoto2: (ptp_usb_getresp [usb.c:466]) PTP_OC 0x911c receiving resp failed: PTP Device Busy (0x2019)\n",
      "WARNING: gphoto2: (camera_unprepare_canon_eos_capture [config.c:546]) 'ptp_canon_eos_resetuilock (params)' failed: PTP Device Busy (0x2019)\n"
     ]
    },
    {
     "data": {
      "text/plain": [
       "0"
      ]
     },
     "execution_count": 5,
     "metadata": {},
     "output_type": "execute_result"
    }
   ],
   "source": [
    "# use Python logging\n",
    "logging.basicConfig(\n",
    "    format='%(levelname)s: %(name)s: %(message)s', level=logging.WARNING)\n",
    "gp.check_result(gp.use_python_logging())\n",
    "# open camera connection\n",
    "camera = gp.check_result(gp.gp_camera_new())\n",
    "context = gp.gp_context_new()\n",
    "camera.init(context)\n",
    "# get configuration tree\n",
    "config = gp.check_result(gp.gp_camera_get_config(camera, context))\n",
    "# find the date/time setting config item and set it\n",
    "if set_datetime(config,3600):\n",
    "    # apply the changed config\n",
    "    gp.check_result(gp.gp_camera_set_config(camera, config, context))\n",
    "else:\n",
    "    print('Could not set date & time')\n",
    "# clean up\n",
    "gp.check_result(gp.gp_camera_exit(camera, context))"
   ]
  },
  {
   "cell_type": "code",
   "execution_count": 6,
   "metadata": {
    "collapsed": true,
    "deletable": true,
    "editable": true
   },
   "outputs": [],
   "source": [
    "context = gp.Context()\n",
    "camList = context.camera_autodetect()"
   ]
  },
  {
   "cell_type": "code",
   "execution_count": 9,
   "metadata": {
    "collapsed": false
   },
   "outputs": [
    {
     "data": {
      "text/plain": [
       "1497772823.935269"
      ]
     },
     "execution_count": 9,
     "metadata": {},
     "output_type": "execute_result"
    }
   ],
   "source": [
    "time.time()+3600"
   ]
  },
  {
   "cell_type": "code",
   "execution_count": 7,
   "metadata": {
    "collapsed": false,
    "deletable": true,
    "editable": true
   },
   "outputs": [
    {
     "name": "stdout",
     "output_type": "stream",
     "text": [
      "['Canon EOS 100D', 'usb:020,019']\n",
      "['Canon EOS 100D', 'usb:020,017']\n"
     ]
    }
   ],
   "source": [
    "for camera in camList:\n",
    "    print(camera)"
   ]
  },
  {
   "cell_type": "code",
   "execution_count": 52,
   "metadata": {
    "collapsed": false,
    "deletable": true,
    "editable": true
   },
   "outputs": [
    {
     "name": "stdout",
     "output_type": "stream",
     "text": [
      "['Canon EOS 100D', 'usb:020,018']\n",
      "['Canon EOS 100D', 'usb:020,017']\n"
     ]
    }
   ],
   "source": [
    "for item in gp.gp_camera_autodetect(context)[1]:\n",
    "    print(item)"
   ]
  },
  {
   "cell_type": "code",
   "execution_count": 58,
   "metadata": {
    "collapsed": false,
    "deletable": true,
    "editable": true
   },
   "outputs": [
    {
     "data": {
      "text/plain": [
       "<Swig Object of type '_CameraWidget *' at 0x10e6b7b20>"
      ]
     },
     "execution_count": 58,
     "metadata": {},
     "output_type": "execute_result"
    }
   ],
   "source": [
    "gp.gp_camera_get_config(camera,context)[1]"
   ]
  },
  {
   "cell_type": "code",
   "execution_count": 29,
   "metadata": {
    "collapsed": false,
    "deletable": true,
    "editable": true
   },
   "outputs": [
    {
     "data": {
      "text/plain": [
       "0"
      ]
     },
     "execution_count": 29,
     "metadata": {},
     "output_type": "execute_result"
    }
   ],
   "source": [
    "gp.gp_widget_get_child_by_name(config, 'syncdatetime')[1].get_value()"
   ]
  },
  {
   "cell_type": "code",
   "execution_count": 39,
   "metadata": {
    "collapsed": false,
    "deletable": true,
    "editable": true
   },
   "outputs": [
    {
     "name": "stderr",
     "output_type": "stream",
     "text": [
      "WARNING: gphoto2: (ptp_list_folder_eos [library.c:7649]) storage 0xffffffff, but handle 0x00000000?\n"
     ]
    }
   ],
   "source": [
    "camera = chooseCamera(0, camList, context)\n",
    "config = camera.get_config(context)"
   ]
  },
  {
   "cell_type": "code",
   "execution_count": 33,
   "metadata": {
    "collapsed": false,
    "deletable": true,
    "editable": true
   },
   "outputs": [
    {
     "data": {
      "text/plain": [
       "8"
      ]
     },
     "execution_count": 33,
     "metadata": {},
     "output_type": "execute_result"
    }
   ],
   "source": [
    "gp.GP_WIDGET_DATE"
   ]
  },
  {
   "cell_type": "code",
   "execution_count": 32,
   "metadata": {
    "collapsed": true,
    "deletable": true,
    "editable": true
   },
   "outputs": [],
   "source": [
    "config.get_child_by_name(\"syncdatetime\").set_value(1)\n",
    "# config.set_changed(0)\n",
    "camera.set_config(config, context)"
   ]
  },
  {
   "cell_type": "code",
   "execution_count": 44,
   "metadata": {
    "collapsed": false,
    "deletable": true,
    "editable": true
   },
   "outputs": [],
   "source": [
    "config = camera.get_config(context)"
   ]
  },
  {
   "cell_type": "code",
   "execution_count": 38,
   "metadata": {
    "collapsed": false,
    "deletable": true,
    "editable": true
   },
   "outputs": [
    {
     "name": "stdout",
     "output_type": "stream",
     "text": [
      "Camera Actions\n",
      "Camera Settings\n",
      "Camera Status Information\n",
      "Image Settings\n",
      "Capture Settings\n",
      "Other PTP Device Properties\n"
     ]
    }
   ],
   "source": [
    "for item in config.get_children():\n",
    "    print(item.get_label())"
   ]
  },
  {
   "cell_type": "code",
   "execution_count": 46,
   "metadata": {
    "collapsed": false,
    "deletable": true,
    "editable": true
   },
   "outputs": [
    {
     "data": {
      "text/plain": [
       "0"
      ]
     },
     "execution_count": 46,
     "metadata": {},
     "output_type": "execute_result"
    }
   ],
   "source": [
    "gp.gp_camera_set_config(camera, config, context)"
   ]
  },
  {
   "cell_type": "code",
   "execution_count": 32,
   "metadata": {
    "collapsed": false,
    "deletable": true,
    "editable": true
   },
   "outputs": [
    {
     "data": {
      "text/plain": [
       "'8a116898bbab47009c0e5c8c82797c63'"
      ]
     },
     "execution_count": 32,
     "metadata": {},
     "output_type": "execute_result"
    }
   ],
   "source": [
    "config.get_child_by_name(\"serialnumber\").get_value()"
   ]
  },
  {
   "cell_type": "code",
   "execution_count": 47,
   "metadata": {
    "collapsed": false,
    "deletable": true,
    "editable": true
   },
   "outputs": [
    {
     "data": {
      "text/plain": [
       "0"
      ]
     },
     "execution_count": 47,
     "metadata": {},
     "output_type": "execute_result"
    }
   ],
   "source": [
    "gp.gp_camera_exit(camera, context)"
   ]
  },
  {
   "cell_type": "code",
   "execution_count": 23,
   "metadata": {
    "collapsed": false,
    "deletable": true,
    "editable": true
   },
   "outputs": [
    {
     "data": {
      "text/plain": [
       "0"
      ]
     },
     "execution_count": 23,
     "metadata": {},
     "output_type": "execute_result"
    }
   ],
   "source": [
    "config.get_child_by_name(\"syncdatetime\").get_value()"
   ]
  },
  {
   "cell_type": "code",
   "execution_count": 20,
   "metadata": {
    "collapsed": false,
    "deletable": true,
    "editable": true
   },
   "outputs": [
    {
     "data": {
      "text/plain": [
       "1357149779"
      ]
     },
     "execution_count": 20,
     "metadata": {},
     "output_type": "execute_result"
    }
   ],
   "source": [
    "config.get_child_by_name(\"datetime\").get_value()"
   ]
  },
  {
   "cell_type": "code",
   "execution_count": 30,
   "metadata": {
    "collapsed": false,
    "deletable": true,
    "editable": true
   },
   "outputs": [],
   "source": [
    "camera.set_config(config, context)"
   ]
  },
  {
   "cell_type": "code",
   "execution_count": 13,
   "metadata": {
    "collapsed": true,
    "deletable": true,
    "editable": true
   },
   "outputs": [],
   "source": [
    "test = config.get_child_by_name(\"datetime\")"
   ]
  },
  {
   "cell_type": "code",
   "execution_count": 45,
   "metadata": {
    "collapsed": true,
    "deletable": true,
    "editable": true
   },
   "outputs": [],
   "source": [
    "config.get_child_by_name(\"datetime\").set_value(int(datetime.now().timestamp()))"
   ]
  },
  {
   "cell_type": "code",
   "execution_count": 23,
   "metadata": {
    "collapsed": false,
    "deletable": true,
    "editable": true
   },
   "outputs": [
    {
     "data": {
      "text/plain": [
       "1"
      ]
     },
     "execution_count": 23,
     "metadata": {},
     "output_type": "execute_result"
    }
   ],
   "source": [
    "test.changed()"
   ]
  },
  {
   "cell_type": "code",
   "execution_count": 25,
   "metadata": {
    "collapsed": false,
    "deletable": true,
    "editable": true
   },
   "outputs": [
    {
     "name": "stdout",
     "output_type": "stream",
     "text": [
      "1357181323\n"
     ]
    }
   ],
   "source": [
    "config = camera.get_config(context)\n",
    "datetimeConfig = config.get_child_by_name(\"datetimeutc\").get_value()\n",
    "print(datetimeConfig)\n",
    "dt = datetime.fromtimestamp(datetimeConfig)"
   ]
  },
  {
   "cell_type": "code",
   "execution_count": 46,
   "metadata": {
    "collapsed": false,
    "deletable": true,
    "editable": true
   },
   "outputs": [
    {
     "data": {
      "text/plain": [
       "1497688380.356018"
      ]
     },
     "execution_count": 46,
     "metadata": {},
     "output_type": "execute_result"
    }
   ],
   "source": [
    "datetime.now().timestamp()"
   ]
  },
  {
   "cell_type": "code",
   "execution_count": 30,
   "metadata": {
    "collapsed": false,
    "deletable": true,
    "editable": true
   },
   "outputs": [
    {
     "data": {
      "text/plain": [
       "1357181323.0"
      ]
     },
     "execution_count": 30,
     "metadata": {},
     "output_type": "execute_result"
    }
   ],
   "source": [
    "dt.timestamp()"
   ]
  },
  {
   "cell_type": "code",
   "execution_count": 9,
   "metadata": {
    "collapsed": false,
    "deletable": true,
    "editable": true
   },
   "outputs": [
    {
     "data": {
      "text/plain": [
       "'2017-06-17T17:15:12.978833'"
      ]
     },
     "execution_count": 9,
     "metadata": {},
     "output_type": "execute_result"
    }
   ],
   "source": [
    "datetime.now().isoformat()"
   ]
  },
  {
   "cell_type": "code",
   "execution_count": 35,
   "metadata": {
    "collapsed": false,
    "deletable": true,
    "editable": true
   },
   "outputs": [
    {
     "data": {
      "text/plain": [
       "1497655590"
      ]
     },
     "execution_count": 35,
     "metadata": {},
     "output_type": "execute_result"
    }
   ],
   "source": [
    "int(datetime.utcnow().timestamp())"
   ]
  },
  {
   "cell_type": "code",
   "execution_count": 10,
   "metadata": {
    "collapsed": false,
    "deletable": true,
    "editable": true
   },
   "outputs": [
    {
     "data": {
      "text/plain": [
       "'2017-06-17T08:15:42.428066'"
      ]
     },
     "execution_count": 10,
     "metadata": {},
     "output_type": "execute_result"
    }
   ],
   "source": [
    "datetime.utcnow().isoformat()"
   ]
  },
  {
   "cell_type": "code",
   "execution_count": 44,
   "metadata": {
    "collapsed": false,
    "deletable": true,
    "editable": true
   },
   "outputs": [
    {
     "name": "stdout",
     "output_type": "stream",
     "text": [
      "Manufacturer: Canon Inc.\n",
      "Model: Canon EOS Kiss X7\n",
      "  Version: 3-1.0.1\n",
      "  Serial Number: 5a7875b23c7e4ccaabeed4a330e94932\n",
      "Vendor Extension ID: 0xb (1.0)\n",
      "\n",
      "Capture Formats: JPEG\n",
      "Display Formats: Association/Directory, Script, DPOF, MS AVI, MS Wave, JPEG, CRW, Unknown(b103), Unknown(bf02), Defined Type, Unknown(b104), Unknown(b105)\n",
      "\n",
      "Device Capabilities:\n",
      "\tFile Download, File Deletion, File Upload\n",
      "\tNo Image Capture, No Open Capture, Canon EOS Capture, Canon EOS Capture 2\n",
      "\tCanon Wifi support\n",
      "\n",
      "Storage Devices Summary:\n",
      "store_00020001:\n",
      "\tStorageDescription: SD\n",
      "\tVolumeLabel: None\n",
      "\tStorage Type: Removable RAM (memory card)\n",
      "\tFilesystemtype: Digital Camera Layout (DCIM)\n",
      "\tAccess Capability: Read-Write\n",
      "\tMaximum Capability: 16130244608 (15383 MB)\n",
      "\tFree Space (Bytes): 16130080768 (15382 MB)\n",
      "\tFree Space (Images): -1\n",
      "\n",
      "Device Property Summary:\n",
      "Model ID(0xd049):(read only) (type=0x6) 2147484486\n",
      "Property 0xd402:(read only) (type=0xffff) 'Canon EOS Kiss X7'\n",
      "Property 0xd407:(read only) (type=0x6) 1\n",
      "Property 0xd406:(readwrite) (type=0xffff) 'Unknown Initiator'\n",
      "Property 0xd303:(read only) (type=0x2) 1\n",
      "Battery Level(0x5001):(read only) (type=0x2) Enumeration [100,0,75,0,50] value: 100% (100)\n",
      "\n"
     ]
    }
   ],
   "source": [
    "print(camera.get_summary(context))"
   ]
  },
  {
   "cell_type": "code",
   "execution_count": 19,
   "metadata": {
    "collapsed": false,
    "deletable": true,
    "editable": true
   },
   "outputs": [],
   "source": [
    "configList = camera.list_config(context)"
   ]
  },
  {
   "cell_type": "code",
   "execution_count": 8,
   "metadata": {
    "collapsed": false,
    "deletable": true,
    "editable": true
   },
   "outputs": [
    {
     "name": "stdout",
     "output_type": "stream",
     "text": [
      "Manufacturer: Canon Inc.\n",
      "Model: Canon EOS Kiss X7\n",
      "  Version: 3-1.0.1\n",
      "  Serial Number: f452f8d397fd49b39ce7539c60d8e9db\n",
      "Vendor Extension ID: 0xb (1.0)\n",
      "\n",
      "Capture Formats: JPEG\n",
      "Display Formats: Association/Directory, Script, DPOF, MS AVI, MS Wave, JPEG, CRW, Unknown(b103), Unknown(bf02), Defined Type, Unknown(b104), Unknown(b105)\n",
      "\n",
      "Device Capabilities:\n",
      "\tFile Download, File Deletion, File Upload\n",
      "\tNo Image Capture, No Open Capture, Canon EOS Capture, Canon EOS Capture 2\n",
      "\tCanon Wifi support\n",
      "\n",
      "Storage Devices Summary:\n",
      "store_00020001:\n",
      "\tStorageDescription: SD\n",
      "\tVolumeLabel: None\n",
      "\tStorage Type: Removable RAM (memory card)\n",
      "\tFilesystemtype: Digital Camera Layout (DCIM)\n",
      "\tAccess Capability: Read-Write\n",
      "\tMaximum Capability: 16130244608 (15383 MB)\n",
      "\tFree Space (Bytes): 15986688000 (15246 MB)\n",
      "\tFree Space (Images): -1\n",
      "\n",
      "Device Property Summary:\n",
      "Model ID(0xd049):(read only) (type=0x6) 2147484486\n",
      "Property 0xd402:(read only) (type=0xffff) 'Canon EOS Kiss X7'\n",
      "Property 0xd407:(read only) (type=0x6) 1\n",
      "Property 0xd406:(readwrite) (type=0xffff) 'Unknown Initiator'\n",
      "Property 0xd303:(read only) (type=0x2) 1\n",
      "Battery Level(0x5001):(read only) (type=0x2) Enumeration [100,0,75,0,50] value: 50% (50)\n",
      "\n"
     ]
    }
   ],
   "source": [
    "print(camera.get_summary(context))"
   ]
  },
  {
   "cell_type": "code",
   "execution_count": 3,
   "metadata": {
    "collapsed": true,
    "deletable": true,
    "editable": true
   },
   "outputs": [],
   "source": [
    "context = gp.Context()\n",
    "camera = gp.Camera()\n",
    "camera.init(context)"
   ]
  },
  {
   "cell_type": "code",
   "execution_count": 46,
   "metadata": {
    "collapsed": false,
    "deletable": true,
    "editable": true
   },
   "outputs": [],
   "source": [
    "portInfo = gp.PortInfoList()"
   ]
  },
  {
   "cell_type": "code",
   "execution_count": 47,
   "metadata": {
    "collapsed": false,
    "deletable": true,
    "editable": true
   },
   "outputs": [],
   "source": [
    "portInfo.load()"
   ]
  },
  {
   "cell_type": "code",
   "execution_count": 5,
   "metadata": {
    "collapsed": true,
    "deletable": true,
    "editable": true
   },
   "outputs": [],
   "source": [
    "idx = portInfo.lookup_path('usb:020,015')"
   ]
  },
  {
   "cell_type": "code",
   "execution_count": 64,
   "metadata": {
    "collapsed": false,
    "deletable": true,
    "editable": true
   },
   "outputs": [
    {
     "ename": "IndexError",
     "evalue": "GPPortInfoList index out of range",
     "output_type": "error",
     "traceback": [
      "\u001b[0;31m---------------------------------------------------------------------------\u001b[0m",
      "\u001b[0;31mIndexError\u001b[0m                                Traceback (most recent call last)",
      "\u001b[0;32m<ipython-input-64-d2589d8ba256>\u001b[0m in \u001b[0;36m<module>\u001b[0;34m()\u001b[0m\n\u001b[0;32m----> 1\u001b[0;31m \u001b[0mpi\u001b[0m \u001b[0;34m=\u001b[0m \u001b[0mportInfo\u001b[0m\u001b[0;34m[\u001b[0m\u001b[0;36m5\u001b[0m\u001b[0;34m]\u001b[0m\u001b[0;34m\u001b[0m\u001b[0m\n\u001b[0m",
      "\u001b[0;31mIndexError\u001b[0m: GPPortInfoList index out of range"
     ]
    }
   ],
   "source": [
    "pi = portInfo[5]"
   ]
  },
  {
   "cell_type": "code",
   "execution_count": 63,
   "metadata": {
    "collapsed": false,
    "deletable": true,
    "editable": true
   },
   "outputs": [
    {
     "data": {
      "text/plain": [
       "'usb:020,004'"
      ]
     },
     "execution_count": 63,
     "metadata": {},
     "output_type": "execute_result"
    }
   ],
   "source": [
    "pi.get_path()"
   ]
  },
  {
   "cell_type": "code",
   "execution_count": 7,
   "metadata": {
    "collapsed": false,
    "deletable": true,
    "editable": true
   },
   "outputs": [],
   "source": [
    "camera.set_port_info(portInfo[idx])\n",
    "camera.init(context)"
   ]
  },
  {
   "cell_type": "code",
   "execution_count": 8,
   "metadata": {
    "collapsed": true,
    "deletable": true,
    "editable": true
   },
   "outputs": [],
   "source": [
    "text = camera.get_summary(context)"
   ]
  },
  {
   "cell_type": "code",
   "execution_count": 76,
   "metadata": {
    "collapsed": false,
    "deletable": true,
    "editable": true
   },
   "outputs": [
    {
     "data": {
      "text/plain": [
       "['Canon EOS 100D', 'usb:020,015']"
      ]
     },
     "execution_count": 76,
     "metadata": {},
     "output_type": "execute_result"
    }
   ],
   "source": [
    "cameras[1]"
   ]
  },
  {
   "cell_type": "code",
   "execution_count": 8,
   "metadata": {
    "collapsed": false,
    "deletable": true,
    "editable": true
   },
   "outputs": [
    {
     "data": {
      "text/plain": [
       "<Swig Object of type 'CameraList *' at 0x10f937c00>"
      ]
     },
     "execution_count": 8,
     "metadata": {},
     "output_type": "execute_result"
    }
   ],
   "source": [
    "camList = context.camera_autodetect()"
   ]
  },
  {
   "cell_type": "code",
   "execution_count": 34,
   "metadata": {
    "collapsed": false,
    "deletable": true,
    "editable": true
   },
   "outputs": [
    {
     "data": {
      "text/plain": [
       "<Swig Object of type 'CameraList *' at 0x10f952030>"
      ]
     },
     "execution_count": 34,
     "metadata": {},
     "output_type": "execute_result"
    }
   ],
   "source": [
    "context.camera_autodetect()"
   ]
  },
  {
   "cell_type": "code",
   "execution_count": 49,
   "metadata": {
    "collapsed": false,
    "deletable": true,
    "editable": true
   },
   "outputs": [],
   "source": [
    "camera = gp.Camera()"
   ]
  },
  {
   "cell_type": "code",
   "execution_count": 51,
   "metadata": {
    "collapsed": false,
    "deletable": true,
    "editable": true
   },
   "outputs": [
    {
     "data": {
      "text/plain": [
       "<Swig Object of type 'GPContext *' at 0x10f1d5810>"
      ]
     },
     "execution_count": 51,
     "metadata": {},
     "output_type": "execute_result"
    }
   ],
   "source": [
    "context"
   ]
  },
  {
   "cell_type": "code",
   "execution_count": 53,
   "metadata": {
    "collapsed": false,
    "deletable": true,
    "editable": true
   },
   "outputs": [],
   "source": [
    "camera.init(context)"
   ]
  },
  {
   "cell_type": "code",
   "execution_count": 75,
   "metadata": {
    "collapsed": false,
    "deletable": true,
    "editable": true
   },
   "outputs": [],
   "source": [
    "text = camera.get_summary(context)"
   ]
  },
  {
   "cell_type": "code",
   "execution_count": 9,
   "metadata": {
    "collapsed": false,
    "deletable": true,
    "editable": true
   },
   "outputs": [
    {
     "name": "stdout",
     "output_type": "stream",
     "text": [
      "Manufacturer: Canon Inc.\n",
      "Model: Canon EOS Kiss X7\n",
      "  Version: 3-1.0.1\n",
      "  Serial Number: f452f8d397fd49b39ce7539c60d8e9db\n",
      "Vendor Extension ID: 0xb (1.0)\n",
      "\n",
      "Capture Formats: JPEG\n",
      "Display Formats: Association/Directory, Script, DPOF, MS AVI, MS Wave, JPEG, CRW, Unknown(b103), Unknown(bf02), Defined Type, Unknown(b104), Unknown(b105)\n",
      "\n",
      "Device Capabilities:\n",
      "\tFile Download, File Deletion, File Upload\n",
      "\tNo Image Capture, No Open Capture, Canon EOS Capture, Canon EOS Capture 2\n",
      "\tCanon Wifi support\n",
      "\n",
      "Storage Devices Summary:\n",
      "store_00020001:\n",
      "\tStorageDescription: SD\n",
      "\tVolumeLabel: None\n",
      "\tStorage Type: Removable RAM (memory card)\n",
      "\tFilesystemtype: Digital Camera Layout (DCIM)\n",
      "\tAccess Capability: Read-Write\n",
      "\tMaximum Capability: 16130244608 (15383 MB)\n",
      "\tFree Space (Bytes): 15986688000 (15246 MB)\n",
      "\tFree Space (Images): -1\n",
      "\n",
      "Device Property Summary:\n",
      "Model ID(0xd049):(read only) (type=0x6) 2147484486\n",
      "Property 0xd402:(read only) (type=0xffff) 'Canon EOS Kiss X7'\n",
      "Property 0xd407:(read only) (type=0x6) 1\n",
      "Property 0xd406:(readwrite) (type=0xffff) 'Unknown Initiator'\n",
      "Property 0xd303:(read only) (type=0x2) 1\n",
      "Battery Level(0x5001):(read only) (type=0x2) Enumeration [100,0,75,0,50] value: 50% (50)\n",
      "\n"
     ]
    }
   ],
   "source": [
    "print(text)"
   ]
  },
  {
   "cell_type": "code",
   "execution_count": 7,
   "metadata": {
    "collapsed": false,
    "deletable": true,
    "editable": true
   },
   "outputs": [
    {
     "ename": "GPhoto2Error",
     "evalue": "[-2] Bad parameters",
     "output_type": "error",
     "traceback": [
      "\u001b[0;31m---------------------------------------------------------------------------\u001b[0m",
      "\u001b[0;31mGPhoto2Error\u001b[0m                              Traceback (most recent call last)",
      "\u001b[0;32m<ipython-input-7-4fa4fc5b286e>\u001b[0m in \u001b[0;36m<module>\u001b[0;34m()\u001b[0m\n\u001b[0;32m----> 1\u001b[0;31m \u001b[0mcamList\u001b[0m\u001b[0;34m.\u001b[0m\u001b[0mget_name\u001b[0m\u001b[0;34m(\u001b[0m\u001b[0;36m0\u001b[0m\u001b[0;34m)\u001b[0m\u001b[0;34m\u001b[0m\u001b[0m\n\u001b[0m",
      "\u001b[0;31mGPhoto2Error\u001b[0m: [-2] Bad parameters"
     ]
    }
   ],
   "source": [
    "for i in range()"
   ]
  },
  {
   "cell_type": "code",
   "execution_count": null,
   "metadata": {
    "collapsed": true,
    "deletable": true,
    "editable": true
   },
   "outputs": [],
   "source": []
  }
 ],
 "metadata": {
  "kernelspec": {
   "display_name": "Python 3",
   "language": "python",
   "name": "python3"
  },
  "language_info": {
   "codemirror_mode": {
    "name": "ipython",
    "version": 3
   },
   "file_extension": ".py",
   "mimetype": "text/x-python",
   "name": "python",
   "nbconvert_exporter": "python",
   "pygments_lexer": "ipython3",
   "version": "3.6.0"
  }
 },
 "nbformat": 4,
 "nbformat_minor": 2
}
