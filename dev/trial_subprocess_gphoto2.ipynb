{
 "cells": [
  {
   "cell_type": "code",
   "execution_count": 1,
   "metadata": {
    "collapsed": true,
    "deletable": true,
    "editable": true
   },
   "outputs": [],
   "source": [
    "import subprocess, re, csv, os, shutil\n",
    "from datetime import datetime"
   ]
  },
  {
   "cell_type": "code",
   "execution_count": 2,
   "metadata": {
    "collapsed": false,
    "deletable": true,
    "editable": true
   },
   "outputs": [
    {
     "data": {
      "text/plain": [
       "CompletedProcess(args=['gphoto2', '--auto-detect'], returncode=0)"
      ]
     },
     "execution_count": 2,
     "metadata": {},
     "output_type": "execute_result"
    }
   ],
   "source": [
    "subprocess.run([\"gphoto2\", \"--auto-detect\"])"
   ]
  },
  {
   "cell_type": "markdown",
   "metadata": {
    "deletable": true,
    "editable": true
   },
   "source": [
    "## ポート取得"
   ]
  },
  {
   "cell_type": "code",
   "execution_count": 2,
   "metadata": {
    "collapsed": true,
    "deletable": true,
    "editable": true
   },
   "outputs": [],
   "source": [
    "def get_lines(cmd):\n",
    "    '''\n",
    "    :param cmd: str 実行するコマンド.\n",
    "    :rtype: generator\n",
    "    :return: 標準出力 (行毎).\n",
    "    '''\n",
    "    proc = subprocess.Popen(cmd, shell=True, stdout=subprocess.PIPE, stderr=subprocess.STDOUT)\n",
    "\n",
    "    while True:\n",
    "        line = proc.stdout.readline()\n",
    "        if line:\n",
    "            yield line\n",
    "\n",
    "        if not line and proc.poll() is not None:\n",
    "            break"
   ]
  },
  {
   "cell_type": "code",
   "execution_count": 3,
   "metadata": {
    "collapsed": true,
    "deletable": true,
    "editable": true
   },
   "outputs": [],
   "source": [
    "def get_list_ports():\n",
    "    output = get_lines(\"gphoto2 --auto-detect\")\n",
    "    list_ports = []\n",
    "    for line in output:\n",
    "        list_ports.append(line.decode('utf-8'))\n",
    "    list_ports=list_ports[2:]\n",
    "    list_ports = [re.split(\"\\s\\s+\", port)[1] for port in list_ports]\n",
    "    return list_ports"
   ]
  },
  {
   "cell_type": "code",
   "execution_count": 6,
   "metadata": {
    "collapsed": false,
    "deletable": true,
    "editable": true
   },
   "outputs": [],
   "source": [
    "list_ports = get_list_ports()"
   ]
  },
  {
   "cell_type": "code",
   "execution_count": 7,
   "metadata": {
    "collapsed": false,
    "deletable": true,
    "editable": true
   },
   "outputs": [
    {
     "data": {
      "text/plain": [
       "['usb:020,017', 'usb:020,019']"
      ]
     },
     "execution_count": 7,
     "metadata": {},
     "output_type": "execute_result"
    }
   ],
   "source": [
    "list_ports"
   ]
  },
  {
   "cell_type": "code",
   "execution_count": 8,
   "metadata": {
    "collapsed": false,
    "deletable": true,
    "editable": true
   },
   "outputs": [
    {
     "data": {
      "text/plain": [
       "2"
      ]
     },
     "execution_count": 8,
     "metadata": {},
     "output_type": "execute_result"
    }
   ],
   "source": [
    "len(list_ports)"
   ]
  },
  {
   "cell_type": "markdown",
   "metadata": {
    "deletable": true,
    "editable": true
   },
   "source": [
    "## シリアルナンバー取得"
   ]
  },
  {
   "cell_type": "code",
   "execution_count": 9,
   "metadata": {
    "collapsed": true,
    "deletable": true,
    "editable": true
   },
   "outputs": [],
   "source": [
    "PTN_SERIALNUM = re.compile(\"Current:\\s+(?P<serialnum>\\d+)\")\n",
    "def get_serialnum(port):\n",
    "    output = get_lines(\"gphoto2 --port \" + port + \" --get-config eosserialnumber\")\n",
    "    lines = [line for line in output]\n",
    "    serialnum = lines[2].decode('utf-8')\n",
    "    m = PTN_SERIALNUM.match(serialnum)\n",
    "    serialnum = m.group(\"serialnum\")\n",
    "    return serialnum\n",
    "\n",
    "def get_list_serialnumber(list_ports):\n",
    "    list_serialnum = []\n",
    "    for port in list_ports:\n",
    "        serialnum = get_serialnum(port)\n",
    "        list_serialnum.append(serialnum)\n",
    "    return list_serialnum"
   ]
  },
  {
   "cell_type": "code",
   "execution_count": 10,
   "metadata": {
    "collapsed": false,
    "deletable": true,
    "editable": true
   },
   "outputs": [],
   "source": [
    "list_serialnum = get_list_serialnumber(list_ports)"
   ]
  },
  {
   "cell_type": "code",
   "execution_count": 11,
   "metadata": {
    "collapsed": false,
    "deletable": true,
    "editable": true
   },
   "outputs": [
    {
     "data": {
      "text/plain": [
       "['011074017969', '011074017959']"
      ]
     },
     "execution_count": 11,
     "metadata": {},
     "output_type": "execute_result"
    }
   ],
   "source": [
    "list_serialnum"
   ]
  },
  {
   "cell_type": "markdown",
   "metadata": {
    "deletable": true,
    "editable": true
   },
   "source": [
    "## 画像の取得"
   ]
  },
  {
   "cell_type": "code",
   "execution_count": 12,
   "metadata": {
    "collapsed": false,
    "deletable": true,
    "editable": true
   },
   "outputs": [],
   "source": [
    "list_camera_numbers = []\n",
    "with open(\"./serialnum.csv\", \"r\") as f:\n",
    "    reader = csv.reader(f, delimiter=',' ,skipinitialspace=True)\n",
    "    for row in reader:\n",
    "        list_camera_numbers.append(row)"
   ]
  },
  {
   "cell_type": "code",
   "execution_count": 13,
   "metadata": {
    "collapsed": false,
    "deletable": true,
    "editable": true
   },
   "outputs": [],
   "source": [
    "def genListCameras(list_camera_numbers, list_ports):\n",
    "    list_cameras = []\n",
    "    for port in list_ports:\n",
    "        serialnum = get_serialnum(port)\n",
    "        for cameraNum in list_camera_numbers:\n",
    "            if cameraNum[1] == serialnum:\n",
    "                list_cameras.append([cameraNum[0], cameraNum[1], port])\n",
    "    list_cameras.sort(key=lambda x:x[0])\n",
    "    return list_cameras"
   ]
  },
  {
   "cell_type": "code",
   "execution_count": 14,
   "metadata": {
    "collapsed": false,
    "deletable": true,
    "editable": true
   },
   "outputs": [],
   "source": [
    "list_cameras = genListCameras(list_camera_numbers, list_ports)"
   ]
  },
  {
   "cell_type": "code",
   "execution_count": 15,
   "metadata": {
    "collapsed": false,
    "deletable": true,
    "editable": true
   },
   "outputs": [
    {
     "data": {
      "text/plain": [
       "[['t03', '011074017969', 'usb:020,017'],\n",
       " ['t04', '011074017959', 'usb:020,019']]"
      ]
     },
     "execution_count": 15,
     "metadata": {},
     "output_type": "execute_result"
    }
   ],
   "source": [
    "list_cameras"
   ]
  },
  {
   "cell_type": "code",
   "execution_count": 16,
   "metadata": {
    "collapsed": true,
    "deletable": true,
    "editable": true
   },
   "outputs": [],
   "source": [
    "PTN_IMAGES_IN_CAMERA = re.compile(\"^#(?P<num>\\d+)\\s+(?P<filename>[^\\s]+)\\s+\")\n",
    "def get_list_files(port):\n",
    "    list_file = []\n",
    "    output = get_lines(\"gphoto2 --port \" + port + \" --list-files\")\n",
    "    lines = [line.decode('utf-8') for line in output]\n",
    "    for line in lines:\n",
    "#         print(line)\n",
    "        m = PTN_IMAGES_IN_CAMERA.match(line)\n",
    "        if m is not None:\n",
    "            list_file.append([m.group(\"num\"), m.group(\"filename\")])\n",
    "    return list_file"
   ]
  },
  {
   "cell_type": "code",
   "execution_count": 17,
   "metadata": {
    "collapsed": false,
    "deletable": true,
    "editable": true
   },
   "outputs": [
    {
     "data": {
      "text/plain": [
       "[['1', 'IMG_0001.JPG'], ['2', 'IMG_0002.JPG'], ['3', 'IMG_0003.JPG']]"
      ]
     },
     "execution_count": 17,
     "metadata": {},
     "output_type": "execute_result"
    }
   ],
   "source": [
    "get_list_files(list_cameras[0][2])"
   ]
  },
  {
   "cell_type": "code",
   "execution_count": 18,
   "metadata": {
    "collapsed": true,
    "deletable": true,
    "editable": true
   },
   "outputs": [],
   "source": [
    "def get_all_images(list_cameras, outputPath, overwrite=False):\n",
    "    cwd = os.getcwd()\n",
    "    wd = os.path.normpath(os.path.join(cwd, outputPath))\n",
    "    if not os.path.exists(wd):\n",
    "        os.mkdir(wd)\n",
    "    os.chdir(wd)\n",
    "    for camera in list_cameras:\n",
    "        camDirPath = os.path.join(wd,camera[0])\n",
    "        if not os.path.exists(camDirPath):\n",
    "            os.mkdir(camDirPath)\n",
    "        else:\n",
    "            shutil.rmtree(camDirPath)\n",
    "            os.mkdir(camDirPath)\n",
    "        print(camera)\n",
    "        subprocess.run([\"gphoto2\", \"--port\", camera[2], \"--get-all-files\", \"--filename\", camera[0] +\"/%04n.%C\"])\n",
    "    os.chdir(cwd)"
   ]
  },
  {
   "cell_type": "code",
   "execution_count": 19,
   "metadata": {
    "collapsed": false,
    "deletable": true,
    "editable": true
   },
   "outputs": [
    {
     "name": "stdout",
     "output_type": "stream",
     "text": [
      "['t03', '011074017969', 'usb:020,017']\n",
      "['t04', '011074017959', 'usb:020,019']\n"
     ]
    }
   ],
   "source": [
    "get_all_images(list_cameras, \"./test\")\n",
    "# バッテリー切れに注意．もし接続が切れていれば，その台数だけ最初に取得されるカメラからダウンロードされる．"
   ]
  },
  {
   "cell_type": "markdown",
   "metadata": {
    "deletable": true,
    "editable": true
   },
   "source": [
    "# 画像フォーマットの設定"
   ]
  },
  {
   "cell_type": "code",
   "execution_count": 20,
   "metadata": {
    "collapsed": true,
    "deletable": true,
    "editable": true
   },
   "outputs": [],
   "source": [
    "def set_imageformat(port, formatNum):\n",
    "    output = get_lines(\"gphoto2 --port \" + port + \" --set-config imageformat=\"+str(formatNum))\n",
    "    return [line for line in output]\n",
    "\n",
    "def set_allCameras_imageformat(list_ports, formatNum):\n",
    "    for port in list_ports:\n",
    "        set_imageformat(port, formatNum)\n",
    "    return 0\n",
    "\n",
    "# Choice: 0 Large Fine JPEG\n",
    "# Choice: 1 Large Normal JPEG\n",
    "# Choice: 2 Medium Fine JPEG\n",
    "# Choice: 3 Medium Normal JPEG\n",
    "# Choice: 4 Small Fine JPEG\n",
    "# Choice: 5 Small Normal JPEG\n",
    "# Choice: 6 Smaller JPEG\n",
    "# Choice: 7 Tiny JPEG\n",
    "# Choice: 8 RAW + Large Fine JPEG\n",
    "# Choice: 9 RAW"
   ]
  },
  {
   "cell_type": "code",
   "execution_count": 21,
   "metadata": {
    "collapsed": false,
    "deletable": true,
    "editable": true
   },
   "outputs": [
    {
     "data": {
      "text/plain": [
       "0"
      ]
     },
     "execution_count": 21,
     "metadata": {},
     "output_type": "execute_result"
    }
   ],
   "source": [
    "set_allCameras_imageformat(list_ports, 9)"
   ]
  },
  {
   "cell_type": "markdown",
   "metadata": {
    "deletable": true,
    "editable": true
   },
   "source": [
    "## SDカードのフォーマット（データの削除）"
   ]
  },
  {
   "cell_type": "code",
   "execution_count": 22,
   "metadata": {
    "collapsed": true,
    "deletable": true,
    "editable": true
   },
   "outputs": [],
   "source": [
    "def delete_all_files(port):\n",
    "    output = get_lines(\"gphoto2 --port \" + port + \" --delete-all-files --recurse\")\n",
    "    return [line for line in output]\n",
    "\n",
    "def delete_all_files_inAllCameras(list_ports):\n",
    "    for port in list_ports:\n",
    "        delete_all_files(port)\n",
    "    return 0    "
   ]
  },
  {
   "cell_type": "code",
   "execution_count": 23,
   "metadata": {
    "collapsed": false,
    "deletable": true,
    "editable": true
   },
   "outputs": [
    {
     "data": {
      "text/plain": [
       "0"
      ]
     },
     "execution_count": 23,
     "metadata": {},
     "output_type": "execute_result"
    }
   ],
   "source": [
    "delete_all_files_inAllCameras(list_ports)"
   ]
  },
  {
   "cell_type": "markdown",
   "metadata": {
    "deletable": true,
    "editable": true
   },
   "source": [
    "## 時刻の同期"
   ]
  },
  {
   "cell_type": "code",
   "execution_count": 24,
   "metadata": {
    "collapsed": true,
    "deletable": true,
    "editable": true
   },
   "outputs": [],
   "source": [
    "PTN_DATETIME = re.compile(\"^Current:\\s+(?P<datetime>\\d+)\")\n",
    "def check_clocks(list_ports):\n",
    "    for port in list_ports:\n",
    "        output = get_lines(\"gphoto2 --port \" + port + \" --get-config datetime\")\n",
    "        lines = [line for line in output]\n",
    "        m = PTN_DATETIME.match(lines[2].decode(\"utf-8\"))\n",
    "        dtStr = m.group(\"datetime\")\n",
    "        dt = datetime.fromtimestamp(int(dtStr))\n",
    "        print(dt.isoformat())\n",
    "def set_clocks_now(list_ports):\n",
    "    for port in list_ports:\n",
    "        output = get_lines(\"gphoto2 --port \" + port + \" --set-config datetime=now\")\n",
    "        lines = [line for line in output]"
   ]
  },
  {
   "cell_type": "code",
   "execution_count": 27,
   "metadata": {
    "collapsed": false,
    "deletable": true,
    "editable": true
   },
   "outputs": [
    {
     "name": "stdout",
     "output_type": "stream",
     "text": [
      "2017-06-18T22:48:07\n",
      "2017-06-18T22:48:07\n"
     ]
    }
   ],
   "source": [
    "check_clocks(list_ports)"
   ]
  },
  {
   "cell_type": "code",
   "execution_count": 26,
   "metadata": {
    "collapsed": false,
    "deletable": true,
    "editable": true
   },
   "outputs": [],
   "source": [
    "set_clocks_now(list_ports)"
   ]
  },
  {
   "cell_type": "code",
   "execution_count": 247,
   "metadata": {
    "collapsed": false,
    "deletable": true,
    "editable": true
   },
   "outputs": [
    {
     "data": {
      "text/plain": [
       "'/Users/noshita/working_dir/cameraControl/test'"
      ]
     },
     "execution_count": 247,
     "metadata": {},
     "output_type": "execute_result"
    }
   ],
   "source": [
    "os.path.normpath(os.path.join(os.getcwd(),\"./test\" ))"
   ]
  },
  {
   "cell_type": "code",
   "execution_count": 66,
   "metadata": {
    "collapsed": true,
    "deletable": true,
    "editable": true
   },
   "outputs": [],
   "source": [
    "lines = [line for line in output]"
   ]
  },
  {
   "cell_type": "code",
   "execution_count": 67,
   "metadata": {
    "collapsed": false,
    "deletable": true,
    "editable": true
   },
   "outputs": [
    {
     "data": {
      "text/plain": [
       "[b'Label: Serial Number\\n', b'Type: TEXT\\n', b'Current: 031074011540\\n']"
      ]
     },
     "execution_count": 67,
     "metadata": {},
     "output_type": "execute_result"
    }
   ],
   "source": [
    "lines"
   ]
  },
  {
   "cell_type": "code",
   "execution_count": null,
   "metadata": {
    "collapsed": true,
    "deletable": true,
    "editable": true
   },
   "outputs": [],
   "source": []
  }
 ],
 "metadata": {
  "kernelspec": {
   "display_name": "Python 3",
   "language": "python",
   "name": "python3"
  },
  "language_info": {
   "codemirror_mode": {
    "name": "ipython",
    "version": 3
   },
   "file_extension": ".py",
   "mimetype": "text/x-python",
   "name": "python",
   "nbconvert_exporter": "python",
   "pygments_lexer": "ipython3",
   "version": "3.6.0"
  }
 },
 "nbformat": 4,
 "nbformat_minor": 2
}
