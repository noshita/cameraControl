{
 "cells": [
  {
   "cell_type": "code",
   "execution_count": 1,
   "metadata": {
    "collapsed": true
   },
   "outputs": [],
   "source": [
    "%load_ext autoreload\n",
    "%autoreload 2"
   ]
  },
  {
   "cell_type": "code",
   "execution_count": 1,
   "metadata": {
    "collapsed": true
   },
   "outputs": [],
   "source": [
    "import csv\n",
    "\n",
    "import cameraControl as cc"
   ]
  },
  {
   "cell_type": "code",
   "execution_count": 7,
   "metadata": {},
   "outputs": [
    {
     "name": "stdout",
     "output_type": "stream",
     "text": [
      "<_sre.SRE_Match object; span=(34, 55), match='Current: 071074003366'>\n",
      "<_sre.SRE_Match object; span=(34, 55), match='Current: 411073015534'>\n",
      "<_sre.SRE_Match object; span=(34, 55), match='Current: 031074008399'>\n",
      "<_sre.SRE_Match object; span=(34, 55), match='Current: 031074008482'>\n",
      "<_sre.SRE_Match object; span=(34, 55), match='Current: 071074004872'>\n",
      "<_sre.SRE_Match object; span=(34, 55), match='Current: 071074003383'>\n",
      "<_sre.SRE_Match object; span=(34, 55), match='Current: 071074003447'>\n",
      "<_sre.SRE_Match object; span=(34, 55), match='Current: 061074013241'>\n",
      "<_sre.SRE_Match object; span=(34, 55), match='Current: 031074011639'>\n"
     ]
    },
    {
     "data": {
      "text/plain": [
       "9"
      ]
     },
     "execution_count": 7,
     "metadata": {},
     "output_type": "execute_result"
    }
   ],
   "source": [
    "# ポートリストの取得\n",
    "list_ports = cc.get_list_ports()\n",
    "# シリアルナンバーの取得\n",
    "list_serialnum = cc.get_list_serialnumber(list_ports)\n",
    "len(list_serialnum)"
   ]
  },
  {
   "cell_type": "code",
   "execution_count": 8,
   "metadata": {},
   "outputs": [],
   "source": [
    "# export serial numbers\n",
    "with open(\"./serialnum_fixed.csv\", \"a\") as f:\n",
    "    for serialnum in list_serialnum:\n",
    "        f.write(serialnum)\n",
    "        f.write(\"\\n\")"
   ]
  },
  {
   "cell_type": "code",
   "execution_count": 9,
   "metadata": {},
   "outputs": [],
   "source": [
    "# 画像フォーマットの設定\n",
    "# 9: RAW\n",
    "cc.set_allCameras_imageformat(list_ports, 9)\n",
    "#  SDカードのデータ削除\n",
    "cc.delete_all_files_inAllCameras(list_ports)\n",
    "# 時刻の同期\n",
    "cc.set_clocks_now(list_ports)"
   ]
  },
  {
   "cell_type": "code",
   "execution_count": null,
   "metadata": {
    "collapsed": true
   },
   "outputs": [],
   "source": []
  }
 ],
 "metadata": {
  "kernelspec": {
   "display_name": "Python 3",
   "language": "python",
   "name": "python3"
  },
  "language_info": {
   "codemirror_mode": {
    "name": "ipython",
    "version": 3
   },
   "file_extension": ".py",
   "mimetype": "text/x-python",
   "name": "python",
   "nbconvert_exporter": "python",
   "pygments_lexer": "ipython3",
   "version": "3.6.0"
  }
 },
 "nbformat": 4,
 "nbformat_minor": 2
}
